{
 "cells": [
  {
   "cell_type": "markdown",
   "metadata": {},
   "source": [
    "___\n",
    "# Ciência dos Dados - PROJETO 1"
   ]
  },
  {
   "cell_type": "markdown",
   "metadata": {},
   "source": [
    "## COLOQUE AQUI SEU NOME\n",
    "___"
   ]
  },
  {
   "cell_type": "markdown",
   "metadata": {},
   "source": [
    "Pedro Furquim de Campos Suarez"
   ]
  },
  {
   "cell_type": "markdown",
   "metadata": {},
   "source": [
    "## TÍTULO DO SEU PROJETO"
   ]
  },
  {
   "cell_type": "code",
   "execution_count": null,
   "metadata": {
    "collapsed": true
   },
   "outputs": [],
   "source": []
  },
  {
   "cell_type": "markdown",
   "metadata": {},
   "source": [
    "___\n",
    "## Introdução\n",
    "\n",
    "Descreva aqui o que pretende analisar!\n",
    "\n",
    "Capriche no português!! \n",
    "Se quiser pode utilizar pesquisas semelhantes publicadas em sites confiáveis!!\n"
   ]
  },
  {
   "cell_type": "markdown",
   "metadata": {},
   "source": [
    "___\n",
    "## Análise e Resultados"
   ]
  },
  {
   "cell_type": "code",
   "execution_count": 2,
   "metadata": {
    "collapsed": true
   },
   "outputs": [],
   "source": [
    "%matplotlib inline\n",
    "import pandas as pd\n",
    "import matplotlib.pyplot as plt\n",
    "import numpy as np\n",
    "import os"
   ]
  },
  {
   "cell_type": "code",
   "execution_count": 3,
   "metadata": {
    "collapsed": false
   },
   "outputs": [
    {
     "name": "stdout",
     "output_type": "stream",
     "text": [
      "Esperamos trabalhar no diretório\n",
      "C:\\Users\\Pedro Suarez\\Documents\\2 semestre\\Ciências dos dados\\Projeto 1\n"
     ]
    }
   ],
   "source": [
    "print('Esperamos trabalhar no diretório')\n",
    "print(os.getcwd())"
   ]
  },
  {
   "cell_type": "code",
   "execution_count": 15,
   "metadata": {
    "collapsed": false
   },
   "outputs": [],
   "source": [
    "dados=pd.read_csv('DOM2015.csv',sep=',')\n",
    "\n",
    "tabelared=pd.DataFrame({\n",
    "    'Condições_de_ocupação_do_domicílio':dados.V0207,\n",
    "    'Telefone_celular':dados.V0220,\n",
    "    'Telefone_fixo':dados.V2020,\n",
    "    'TV_por_assinatura':dados.V02272,\n",
    "    'TV_aberta':dados.V02273,\n",
    "    'Renda_domiciliar_mensal': dados.V4621,\n",
    "    'Estado':dados.UF\n",
    "    })\n",
    "\n",
    "tabelared.Condições_de_ocupação_do_domicílio = tabelared.Condições_de_ocupação_do_domicílio.astype('category')\n",
    "tabelared.Condições_de_ocupação_do_domicílio.cat.categories = ('Próprio - já pago', 'Próprio - ainda pagando', 'Alugado', 'Cedido por empregador', 'Cedido de outra forma', 'Outra condição')\n",
    "\n",
    "tabelared.Telefone_celular = tabelared.Telefone_celular.astype('category')\n",
    "tabelared.Telefone_celular.cat.categories = ('Sim', 'Não')\n",
    "\n",
    "tabelared.Telefone_fixo = tabelared.Telefone_fixo.astype('category')\n",
    "tabelared.Telefone_fixo.cat.categories = ('Sim', 'Não')\n",
    "\n",
    "tabelared.TV_por_assinatura = tabelared.TV_por_assinatura.astype('category')\n",
    "tabelared.TV_por_assinatura.cat.categories = ('Sim', 'Não')\n",
    "\n",
    "tabelared.TV_aberta = tabelared.TV_aberta.astype('category')\n",
    "tabelared.TV_aberta.cat.categories = ('Sim', 'Não', 'Não sabe')\n",
    "\n",
    "newtab=tabelared.dropna()\n",
    "oficial=newtab[(newtab.Estado>=31) & (newtab.Estado<=35)] # Sudeste\n",
    "#tabelared"
   ]
  },
  {
   "cell_type": "code",
   "execution_count": 16,
   "metadata": {
    "collapsed": false
   },
   "outputs": [
    {
     "data": {
      "text/html": [
       "<div>\n",
       "<table border=\"1\" class=\"dataframe\">\n",
       "  <thead>\n",
       "    <tr style=\"text-align: right;\">\n",
       "      <th>Telefone_fixo</th>\n",
       "      <th>Sim</th>\n",
       "      <th>Não</th>\n",
       "    </tr>\n",
       "    <tr>\n",
       "      <th>Condições_de_ocupação_do_domicílio</th>\n",
       "      <th></th>\n",
       "      <th></th>\n",
       "    </tr>\n",
       "  </thead>\n",
       "  <tbody>\n",
       "    <tr>\n",
       "      <th>Próprio - já pago</th>\n",
       "      <td>13836</td>\n",
       "      <td>10669</td>\n",
       "    </tr>\n",
       "    <tr>\n",
       "      <th>Próprio - ainda pagando</th>\n",
       "      <td>1046</td>\n",
       "      <td>912</td>\n",
       "    </tr>\n",
       "    <tr>\n",
       "      <th>Alugado</th>\n",
       "      <td>2342</td>\n",
       "      <td>4391</td>\n",
       "    </tr>\n",
       "    <tr>\n",
       "      <th>Cedido por empregador</th>\n",
       "      <td>109</td>\n",
       "      <td>543</td>\n",
       "    </tr>\n",
       "    <tr>\n",
       "      <th>Cedido de outra forma</th>\n",
       "      <td>594</td>\n",
       "      <td>1091</td>\n",
       "    </tr>\n",
       "    <tr>\n",
       "      <th>Outra condição</th>\n",
       "      <td>32</td>\n",
       "      <td>58</td>\n",
       "    </tr>\n",
       "  </tbody>\n",
       "</table>\n",
       "</div>"
      ],
      "text/plain": [
       "Telefone_fixo                         Sim    Não\n",
       "Condições_de_ocupação_do_domicílio              \n",
       "Próprio - já pago                   13836  10669\n",
       "Próprio - ainda pagando              1046    912\n",
       "Alugado                              2342   4391\n",
       "Cedido por empregador                 109    543\n",
       "Cedido de outra forma                 594   1091\n",
       "Outra condição                         32     58"
      ]
     },
     "execution_count": 16,
     "metadata": {},
     "output_type": "execute_result"
    }
   ],
   "source": [
    "ct = pd.crosstab(oficial.Condições_de_ocupação_do_domicílio, oficial.Telefone_fixo)\n",
    "ct"
   ]
  },
  {
   "cell_type": "code",
   "execution_count": 17,
   "metadata": {
    "collapsed": false
   },
   "outputs": [
    {
     "data": {
      "text/html": [
       "<div>\n",
       "<table border=\"1\" class=\"dataframe\">\n",
       "  <thead>\n",
       "    <tr style=\"text-align: right;\">\n",
       "      <th>Telefone_celular</th>\n",
       "      <th>Sim</th>\n",
       "      <th>Não</th>\n",
       "    </tr>\n",
       "    <tr>\n",
       "      <th>Condições_de_ocupação_do_domicílio</th>\n",
       "      <th></th>\n",
       "      <th></th>\n",
       "    </tr>\n",
       "  </thead>\n",
       "  <tbody>\n",
       "    <tr>\n",
       "      <th>Próprio - já pago</th>\n",
       "      <td>22640</td>\n",
       "      <td>1865</td>\n",
       "    </tr>\n",
       "    <tr>\n",
       "      <th>Próprio - ainda pagando</th>\n",
       "      <td>1930</td>\n",
       "      <td>28</td>\n",
       "    </tr>\n",
       "    <tr>\n",
       "      <th>Alugado</th>\n",
       "      <td>6488</td>\n",
       "      <td>245</td>\n",
       "    </tr>\n",
       "    <tr>\n",
       "      <th>Cedido por empregador</th>\n",
       "      <td>577</td>\n",
       "      <td>75</td>\n",
       "    </tr>\n",
       "    <tr>\n",
       "      <th>Cedido de outra forma</th>\n",
       "      <td>1519</td>\n",
       "      <td>166</td>\n",
       "    </tr>\n",
       "    <tr>\n",
       "      <th>Outra condição</th>\n",
       "      <td>81</td>\n",
       "      <td>9</td>\n",
       "    </tr>\n",
       "  </tbody>\n",
       "</table>\n",
       "</div>"
      ],
      "text/plain": [
       "Telefone_celular                      Sim   Não\n",
       "Condições_de_ocupação_do_domicílio             \n",
       "Próprio - já pago                   22640  1865\n",
       "Próprio - ainda pagando              1930    28\n",
       "Alugado                              6488   245\n",
       "Cedido por empregador                 577    75\n",
       "Cedido de outra forma                1519   166\n",
       "Outra condição                         81     9"
      ]
     },
     "execution_count": 17,
     "metadata": {},
     "output_type": "execute_result"
    }
   ],
   "source": [
    "ct = pd.crosstab(oficial.Condições_de_ocupação_do_domicílio, oficial.Telefone_celular)\n",
    "ct"
   ]
  },
  {
   "cell_type": "markdown",
   "metadata": {},
   "source": [
    "___\n",
    "## Conclusão "
   ]
  },
  {
   "cell_type": "markdown",
   "metadata": {
    "collapsed": true
   },
   "source": [
    "Descreva aqui suas conclusões!"
   ]
  },
  {
   "cell_type": "code",
   "execution_count": null,
   "metadata": {
    "collapsed": true
   },
   "outputs": [],
   "source": []
  }
 ],
 "metadata": {
  "anaconda-cloud": {},
  "kernelspec": {
   "display_name": "Python 3",
   "language": "python",
   "name": "python3"
  },
  "language_info": {
   "codemirror_mode": {
    "name": "ipython",
    "version": 3
   },
   "file_extension": ".py",
   "mimetype": "text/x-python",
   "name": "python",
   "nbconvert_exporter": "python",
   "pygments_lexer": "ipython3",
   "version": "3.6.0"
  }
 },
 "nbformat": 4,
 "nbformat_minor": 1
}
